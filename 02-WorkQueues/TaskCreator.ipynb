{
 "cells": [
  {
   "cell_type": "code",
   "execution_count": 40,
   "metadata": {},
   "outputs": [
    {
     "data": {
      "text/plain": [
       "<METHOD(['channel_number=1', 'frame_type=1', \"method=<Queue.DeclareOk(['consumer_count=2', 'message_count=0', 'queue=hello3'])>\"])>"
      ]
     },
     "execution_count": 40,
     "metadata": {},
     "output_type": "execute_result"
    }
   ],
   "source": [
    "import sys\n",
    "import pika\n",
    "\n",
    "# create connection and channel\n",
    "connection = pika.BlockingConnection(pika.ConnectionParameters('server'))\n",
    "channel = connection.channel()\n",
    "\n",
    "# create a new queue so that future messages can be received\n",
    "queue_key='hello3'\n",
    "channel.queue_declare(queue=queue_key, durable=True)"
   ]
  },
  {
   "cell_type": "code",
   "execution_count": 41,
   "metadata": {},
   "outputs": [],
   "source": [
    "# create message\n",
    "for x in range(0,10):\n",
    "    if x%2:\n",
    "        message = \".\" + str(x)\n",
    "    else:\n",
    "        message = \".........\" + str(x)\n",
    "    channel.basic_publish(exchange=\"\", routing_key=queue_key, body=message, properties=pika.BasicProperties(delivery_mode = 2))"
   ]
  },
  {
   "cell_type": "code",
   "execution_count": null,
   "metadata": {},
   "outputs": [],
   "source": []
  }
 ],
 "metadata": {
  "kernelspec": {
   "display_name": "Python 3",
   "language": "python",
   "name": "python3"
  },
  "language_info": {
   "codemirror_mode": {
    "name": "ipython",
    "version": 3
   },
   "file_extension": ".py",
   "mimetype": "text/x-python",
   "name": "python",
   "nbconvert_exporter": "python",
   "pygments_lexer": "ipython3",
   "version": "3.6.7"
  }
 },
 "nbformat": 4,
 "nbformat_minor": 2
}
