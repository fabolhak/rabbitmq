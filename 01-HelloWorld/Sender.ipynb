{
 "cells": [
  {
   "cell_type": "code",
   "execution_count": null,
   "metadata": {},
   "outputs": [],
   "source": [
    "import pika\n",
    "\n",
    "# create connection and channel\n",
    "connection = pika.BlockingConnection(pika.ConnectionParameters('server'))\n",
    "channel = connection.channel()\n",
    "\n",
    "# create a new queue so that future messages can be received\n",
    "queue_key='hello'\n",
    "channel.queue_declare(queue=queue_key)"
   ]
  },
  {
   "cell_type": "code",
   "execution_count": null,
   "metadata": {},
   "outputs": [],
   "source": [
    "# publish some message\n",
    "channel.basic_publish(exchange='', routing_key=queue_key, body='Hello World!')"
   ]
  }
 ],
 "metadata": {
  "kernelspec": {
   "display_name": "Python 3",
   "language": "python",
   "name": "python3"
  },
  "language_info": {
   "codemirror_mode": {
    "name": "ipython",
    "version": 3
   },
   "file_extension": ".py",
   "mimetype": "text/x-python",
   "name": "python",
   "nbconvert_exporter": "python",
   "pygments_lexer": "ipython3",
   "version": "3.6.7"
  }
 },
 "nbformat": 4,
 "nbformat_minor": 2
}
